{
 "cells": [
  {
   "cell_type": "code",
   "execution_count": 10,
   "metadata": {},
   "outputs": [],
   "source": [
    "import sys\n",
    "import os\n",
    "sys.path.append('/home/alina/repos/Audio-Classification-HF/')\n",
    "\n",
    "import numpy as np\n",
    "import torch\n",
    "\n",
    "from datasets import DatasetDict, load_dataset, load_metric, concatenate_datasets\n",
    "from transformers import (\n",
    "    AutoConfig,\n",
    "    set_seed,\n",
    "    Wav2Vec2Processor,\n",
    "    WavLMForSequenceClassification,\n",
    "    AutoFeatureExtractor\n",
    ")\n",
    "\n",
    "from dataclasses import dataclass\n",
    "from typing import Dict, List, Any, Optional, Union, Tuple"
   ]
  },
  {
   "cell_type": "code",
   "execution_count": 2,
   "metadata": {},
   "outputs": [],
   "source": [
    "@dataclass\n",
    "class DataCollatorCTCWithPadding:\n",
    "    \"\"\"\n",
    "    Data collator that will dynamically pad the inputs received.\n",
    "    Args:\n",
    "        processor (:class:`~transformers.Wav2Vec2Processor`)\n",
    "            The processor used for proccessing the data.\n",
    "        padding (:obj:`bool`, :obj:`str` or :class:`~transformers.tokenization_utils_base.PaddingStrategy`, `optional`, defaults to :obj:`True`):\n",
    "            Select a strategy to pad the returned sequences (according to the model's padding side and padding index)\n",
    "            among:\n",
    "            * :obj:`True` or :obj:`'longest'`: Pad to the longest sequence in the batch (or no padding if only a single\n",
    "              sequence if provided).\n",
    "            * :obj:`'max_length'`: Pad to a maximum length specified with the argument :obj:`max_length` or to the\n",
    "              maximum acceptable input length for the model if that argument is not provided.\n",
    "            * :obj:`False` or :obj:`'do_not_pad'` (default): No padding (i.e., can output a batch with sequences of\n",
    "              different lengths).\n",
    "        max_length (:obj:`int`, `optional`):\n",
    "            Maximum length of the ``input_values`` of the returned list and optionally padding length (see above).\n",
    "        max_length_labels (:obj:`int`, `optional`):\n",
    "            Maximum length of the ``labels`` returned list and optionally padding length (see above).\n",
    "        pad_to_multiple_of (:obj:`int`, `optional`):\n",
    "            If set will pad the sequence to a multiple of the provided value.\n",
    "            This is especially useful to enable the use of Tensor Cores on NVIDIA hardware with compute capability >=\n",
    "            7.5 (Volta).\n",
    "    \"\"\"\n",
    "\n",
    "    processor: Wav2Vec2Processor\n",
    "    padding: Union[bool, str] = True\n",
    "    max_length: Optional[int] = None\n",
    "    max_length_labels: Optional[int] = None\n",
    "    pad_to_multiple_of: Optional[int] = None\n",
    "    pad_to_multiple_of_labels: Optional[int] = None\n",
    "\n",
    "    def __call__(self, features: List[Dict[str, Union[List[int], torch.Tensor]]]) -> Dict[str, torch.Tensor]:\n",
    "        input_features = [{\"input_values\": feature[\"input_values\"]} for feature in features]\n",
    "        label_features = [feature[\"labels\"] for feature in features]\n",
    "\n",
    "        d_type = torch.long if isinstance(label_features[0], int) else torch.float\n",
    "\n",
    "        batch = self.processor.pad(\n",
    "            input_features,\n",
    "            padding=self.padding,\n",
    "            max_length=self.max_length,\n",
    "            pad_to_multiple_of=self.pad_to_multiple_of,\n",
    "            return_tensors=\"pt\",\n",
    "        )\n",
    "\n",
    "        batch[\"labels\"] = torch.tensor(label_features, dtype=d_type)\n",
    "\n",
    "        return batch"
   ]
  },
  {
   "cell_type": "code",
   "execution_count": 4,
   "metadata": {},
   "outputs": [],
   "source": [
    "PROJECT_ROOT = \"/home/alina/repos/Audio-Classification-HF\"\n",
    "set_seed(42)"
   ]
  },
  {
   "cell_type": "code",
   "execution_count": 5,
   "metadata": {},
   "outputs": [
    {
     "data": {
      "text/plain": [
       "'cuda'"
      ]
     },
     "execution_count": 5,
     "metadata": {},
     "output_type": "execute_result"
    }
   ],
   "source": [
    "device = 'cuda' if torch.cuda.is_available() else 'cpu'\n",
    "device"
   ]
  },
  {
   "cell_type": "code",
   "execution_count": 6,
   "metadata": {},
   "outputs": [],
   "source": [
    "INPUT_FIELD = \"input_values\"\n",
    "LABEL_FIELD = \"labels\"\n",
    "\n",
    "def prepare_dataset(examples, feature_extractor):\n",
    "    audio_arrays = [x[\"array\"] for x in examples[\"audio\"]]\n",
    "    input = feature_extractor(\n",
    "        audio_arrays, \n",
    "        sampling_rate=16000, \n",
    "        padding=True, \n",
    "        return_tensors=\"pt\"\n",
    "    )\n",
    "\n",
    "    examples[INPUT_FIELD] = input.input_values.to(device)\n",
    "    examples[LABEL_FIELD] = examples[ \"emotion\"]  # colname MUST be labels as Trainer will look for it by default\n",
    "\n",
    "    return examples\n",
    "\n"
   ]
  },
  {
   "cell_type": "code",
   "execution_count": 24,
   "metadata": {},
   "outputs": [
    {
     "name": "stderr",
     "output_type": "stream",
     "text": [
      "The argument `trust_remote_code` is to be used with Auto classes. It has no effect here and is ignored.\n"
     ]
    }
   ],
   "source": [
    "feature_extractor = AutoFeatureExtractor.from_pretrained(\"microsoft/wavlm-large\")\n",
    "model_path = \"./models/wavlm_01_exp/audio-model\"\n",
    "\n",
    "config = AutoConfig.from_pretrained(\n",
    "        model_path,\n",
    "    )\n",
    "\n",
    "model = WavLMForSequenceClassification.from_pretrained(\n",
    "        model_path,\n",
    "        config=config,\n",
    "        trust_remote_code=True,\n",
    "    ).to(device)"
   ]
  },
  {
   "cell_type": "code",
   "execution_count": 25,
   "metadata": {},
   "outputs": [],
   "source": [
    "dataset = load_dataset(\"xbgoose/dusha\")\n",
    "\n",
    "ds_ang = dataset['train'].filter(lambda example: example[\"emotion\"] == \"angry\")\n",
    "ds_hap = dataset['train'].filter(lambda example: example[\"emotion\"] == \"positive\")\n",
    "ds_sad = dataset['train'].filter(lambda example: example[\"emotion\"] == \"sad\")\n",
    "ds_neu = dataset['train'].filter(lambda example: example[\"emotion\"] == \"neutral\")\n",
    "ds_oth = dataset['train'].filter(lambda example: example[\"emotion\"] == \"other\")\n",
    "\n",
    "ds_a = ds_ang.shard(num_shards=4, index=0)\n",
    "ds_h = ds_hap.shard(num_shards=4, index=0)\n",
    "ds_s = ds_sad.shard(num_shards=6, index=0)\n",
    "ds_n = ds_neu.shard(num_shards=30, index=0)\n",
    "ds_o = ds_oth\n",
    "\n",
    "ds = concatenate_datasets([ds_a, ds_h, ds_s, ds_n, ds_o])\n",
    "\n",
    "train_testvalid = ds.train_test_split(shuffle=True, test_size=0.1, seed=42)\n",
    "test_valid = train_testvalid[\"test\"].train_test_split(test_size=0.5, seed=42)\n"
   ]
  },
  {
   "cell_type": "code",
   "execution_count": 26,
   "metadata": {},
   "outputs": [],
   "source": [
    "ds = DatasetDict(\n",
    "    {\n",
    "        \"train\": train_testvalid[\"train\"],\n",
    "        \"test\": test_valid[\"test\"],\n",
    "        \"val\": test_valid[\"train\"],\n",
    "    }\n",
    ")"
   ]
  },
  {
   "cell_type": "code",
   "execution_count": 27,
   "metadata": {},
   "outputs": [],
   "source": [
    "ds = ds.class_encode_column(\"emotion\")"
   ]
  },
  {
   "cell_type": "code",
   "execution_count": 28,
   "metadata": {},
   "outputs": [
    {
     "data": {
      "text/plain": [
       "['angry', 'neutral', 'other', 'positive', 'sad']"
      ]
     },
     "execution_count": 28,
     "metadata": {},
     "output_type": "execute_result"
    }
   ],
   "source": [
    "ds['test'].features['emotion'].names"
   ]
  },
  {
   "cell_type": "code",
   "execution_count": 29,
   "metadata": {},
   "outputs": [],
   "source": [
    "encoded_dataset = ds.map(prepare_dataset, \n",
    "                              fn_kwargs={\"feature_extractor\": feature_extractor}, \n",
    "                              remove_columns=[\"audio\"],\n",
    "                              batched=True, \n",
    "                              batch_size=4)"
   ]
  },
  {
   "cell_type": "code",
   "execution_count": 30,
   "metadata": {},
   "outputs": [
    {
     "name": "stderr",
     "output_type": "stream",
     "text": [
      "100%|██████████| 788/788 [01:13<00:00, 10.79it/s]\n"
     ]
    }
   ],
   "source": [
    "from tqdm import tqdm\n",
    "\n",
    "model.eval()\n",
    "preds = []\n",
    "for sample in tqdm(encoded_dataset['test']):\n",
    "    logits = model(torch.cuda.FloatTensor(sample['input_values']).unsqueeze(dim=0)).logits\n",
    "    # print(logits)\n",
    "    predictions = torch.argmax(logits, dim=-1)\n",
    "    # print(predictions)  \n",
    "    predicted_emotion = config.id2label[predictions.cpu().data.numpy()[0]]\n",
    "    preds.append(predicted_emotion)\n",
    "    # print(predicted_emotion)"
   ]
  },
  {
   "cell_type": "code",
   "execution_count": 31,
   "metadata": {},
   "outputs": [],
   "source": [
    "gts  = [config.id2label[gt] for gt in encoded_dataset['test']['labels']]"
   ]
  },
  {
   "cell_type": "code",
   "execution_count": 32,
   "metadata": {},
   "outputs": [
    {
     "data": {
      "image/png": "[encoded data removed]",
      "text/plain": [
       "<Figure size 640x480 with 2 Axes>"
      ]
     },
     "metadata": {},
     "output_type": "display_data"
    }
   ],
   "source": [
    "import matplotlib.pyplot as plt\n",
    "from sklearn.metrics import confusion_matrix, ConfusionMatrixDisplay\n",
    "\n",
    "cm = confusion_matrix(gts, preds, labels=list(config.label2id.keys()))\n",
    "disp = ConfusionMatrixDisplay(confusion_matrix=cm,\n",
    "                              display_labels=list(config.label2id.keys()))\n",
    "disp.plot()\n",
    "\n",
    "plt.show()"
   ]
  },
  {
   "cell_type": "code",
   "execution_count": 34,
   "metadata": {},
   "outputs": [
    {
     "name": "stdout",
     "output_type": "stream",
     "text": [
      "              precision    recall  f1-score   support\n",
      "\n",
      "       angry       0.85      0.84      0.84       177\n",
      "     neutral       0.75      0.62      0.68       149\n",
      "       other       0.96      0.87      0.91        75\n",
      "    positive       0.82      0.83      0.82       184\n",
      "         sad       0.80      0.93      0.86       203\n",
      "\n",
      "    accuracy                           0.82       788\n",
      "   macro avg       0.83      0.81      0.82       788\n",
      "weighted avg       0.82      0.82      0.82       788\n",
      "\n"
     ]
    },
    {
     "ename": "",
     "evalue": "",
     "output_type": "error",
     "traceback": [
      "\u001b[1;31mThe Kernel crashed while executing code in the current cell or a previous cell. \n",
      "\u001b[1;31mPlease review the code in the cell(s) to identify a possible cause of the failure. \n",
      "\u001b[1;31mClick <a href='https://aka.ms/vscodeJupyterKernelCrash'>here</a> for more info. \n",
      "\u001b[1;31mView Jupyter <a href='command:jupyter.viewOutput'>log</a> for further details."
     ]
    }
   ],
   "source": [
    "from sklearn.metrics import classification_report\n",
    "\n",
    "print(classification_report(gts, preds, target_names=list(config.label2id.keys())))"
   ]
  }
 ],
 "metadata": {
  "kernelspec": {
   "display_name": "hubert",
   "language": "python",
   "name": "python3"
  },
  "language_info": {
   "codemirror_mode": {
    "name": "ipython",
    "version": 3
   },
   "file_extension": ".py",
   "mimetype": "text/x-python",
   "name": "python",
   "nbconvert_exporter": "python",
   "pygments_lexer": "ipython3",
   "version": "3.10.14"
  }
 },
 "nbformat": 4,
 "nbformat_minor": 2
}
