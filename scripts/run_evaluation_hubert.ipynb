{
 "cells": [
  {
   "cell_type": "code",
   "execution_count": 1,
   "metadata": {},
   "outputs": [
    {
     "name": "stderr",
     "output_type": "stream",
     "text": [
      "/home/alina/miniconda3/envs/hubert/lib/python3.10/site-packages/tqdm/auto.py:21: TqdmWarning: IProgress not found. Please update jupyter and ipywidgets. See https://ipywidgets.readthedocs.io/en/stable/user_install.html\n",
      "  from .autonotebook import tqdm as notebook_tqdm\n",
      "/home/alina/miniconda3/envs/hubert/lib/python3.10/site-packages/transformers/utils/generic.py:485: UserWarning: torch.utils._pytree._register_pytree_node is deprecated. Please use torch.utils._pytree.register_pytree_node instead.\n",
      "  _torch_pytree._register_pytree_node(\n",
      "/home/alina/miniconda3/envs/hubert/lib/python3.10/site-packages/transformers/utils/generic.py:342: UserWarning: torch.utils._pytree._register_pytree_node is deprecated. Please use torch.utils._pytree.register_pytree_node instead.\n",
      "  _torch_pytree._register_pytree_node(\n",
      "/home/alina/miniconda3/envs/hubert/lib/python3.10/site-packages/transformers/utils/generic.py:342: UserWarning: torch.utils._pytree._register_pytree_node is deprecated. Please use torch.utils._pytree.register_pytree_node instead.\n",
      "  _torch_pytree._register_pytree_node(\n",
      "/home/alina/miniconda3/envs/hubert/lib/python3.10/site-packages/transformers/utils/generic.py:342: UserWarning: torch.utils._pytree._register_pytree_node is deprecated. Please use torch.utils._pytree.register_pytree_node instead.\n",
      "  _torch_pytree._register_pytree_node(\n"
     ]
    }
   ],
   "source": [
    "import sys\n",
    "sys.path.append('/home/alina/repos/Audio-Classification-HF/')\n",
    "import os\n",
    "import librosa\n",
    "import torch\n",
    "import numpy as np\n",
    "\n",
    "from datasets import DatasetDict, load_dataset, load_metric, concatenate_datasets\n",
    "from transformers import (\n",
    "    HubertForSequenceClassification,\n",
    "    HubertConfig,\n",
    "    AutoModelForAudioClassification,\n",
    "    AutoConfig,\n",
    "    Trainer,\n",
    "    TrainingArguments,\n",
    "    Wav2Vec2FeatureExtractor,\n",
    "    set_seed\n",
    ")\n",
    "from src.utils import collator"
   ]
  },
  {
   "cell_type": "code",
   "execution_count": 2,
   "metadata": {},
   "outputs": [],
   "source": [
    "PROJECT_ROOT = \"/home/alina/repos/Audio-Classification-HF\"\n",
    "set_seed(42)"
   ]
  },
  {
   "cell_type": "code",
   "execution_count": 3,
   "metadata": {},
   "outputs": [
    {
     "data": {
      "text/plain": [
       "'cuda'"
      ]
     },
     "execution_count": 3,
     "metadata": {},
     "output_type": "execute_result"
    }
   ],
   "source": [
    "device = 'cuda' if torch.cuda.is_available() else 'cpu'\n",
    "device"
   ]
  },
  {
   "cell_type": "code",
   "execution_count": 4,
   "metadata": {},
   "outputs": [],
   "source": [
    "INPUT_FIELD = \"input_values\"\n",
    "LABEL_FIELD = \"labels\"\n",
    "\n",
    "def prepare_dataset(examples, feature_extractor):\n",
    "    audio_arrays = [x[\"array\"] for x in examples[\"audio\"]]\n",
    "    input = feature_extractor(\n",
    "        audio_arrays, \n",
    "        sampling_rate=16000, \n",
    "        padding=True, \n",
    "        return_tensors=\"pt\"\n",
    "    )\n",
    "\n",
    "    examples[INPUT_FIELD] = input.input_values.to(device)\n",
    "    examples[LABEL_FIELD] = examples[ \"emotion\"]  # colname MUST be labels as Trainer will look for it by default\n",
    "\n",
    "    return examples\n",
    "\n"
   ]
  },
  {
   "cell_type": "code",
   "execution_count": 49,
   "metadata": {},
   "outputs": [],
   "source": [
    "feature_extractor = Wav2Vec2FeatureExtractor.from_pretrained(\"facebook/hubert-large-ls960-ft\")\n",
    "model_path = \"./results/hubert/06_exp_dusha/checkpoint-1600\"\n",
    "\n",
    "config = HubertConfig.from_pretrained(model_path)\n",
    "\n",
    "model = HubertForSequenceClassification.from_pretrained(\n",
    "    model_path,\n",
    "    config=config,  # because we need to update num_labels as per our dataset\n",
    " # to avoid classifier size mismatch from from_pretrained.\n",
    ").to(device)\n",
    "# model = model.to(device)"
   ]
  },
  {
   "cell_type": "code",
   "execution_count": 34,
   "metadata": {},
   "outputs": [],
   "source": [
    "dataset = load_dataset(\"xbgoose/dusha\")\n",
    "\n",
    "ds_ang = dataset['train'].filter(lambda example: example[\"emotion\"] == \"angry\")\n",
    "ds_hap = dataset['train'].filter(lambda example: example[\"emotion\"] == \"positive\")\n",
    "ds_sad = dataset['train'].filter(lambda example: example[\"emotion\"] == \"sad\")\n",
    "ds_neu = dataset['train'].filter(lambda example: example[\"emotion\"] == \"neutral\")\n",
    "ds_oth = dataset['train'].filter(lambda example: example[\"emotion\"] == \"other\")\n",
    "\n",
    "ds_a = ds_ang.shard(num_shards=4, index=0)\n",
    "ds_h = ds_hap.shard(num_shards=4, index=0)\n",
    "ds_s = ds_sad.shard(num_shards=6, index=0)\n",
    "ds_n = ds_neu.shard(num_shards=30, index=0)\n",
    "ds_o = ds_oth\n",
    "\n",
    "ds = concatenate_datasets([ds_a, ds_h, ds_s, ds_n, ds_o])\n",
    "\n",
    "train_testvalid = ds.train_test_split(shuffle=True, test_size=0.1, seed=42)\n",
    "test_valid = train_testvalid[\"test\"].train_test_split(test_size=0.5, seed=42)\n"
   ]
  },
  {
   "cell_type": "code",
   "execution_count": 35,
   "metadata": {},
   "outputs": [],
   "source": [
    "ds = DatasetDict(\n",
    "    {\n",
    "        \"train\": train_testvalid[\"train\"],\n",
    "        \"test\": test_valid[\"test\"],\n",
    "        \"val\": test_valid[\"train\"],\n",
    "    }\n",
    ")"
   ]
  },
  {
   "cell_type": "code",
   "execution_count": 40,
   "metadata": {},
   "outputs": [],
   "source": [
    "ds = ds.class_encode_column(\"emotion\")"
   ]
  },
  {
   "cell_type": "code",
   "execution_count": 41,
   "metadata": {},
   "outputs": [
    {
     "data": {
      "text/plain": [
       "['angry', 'neutral', 'other', 'positive', 'sad']"
      ]
     },
     "execution_count": 41,
     "metadata": {},
     "output_type": "execute_result"
    }
   ],
   "source": [
    "ds['test'].features['emotion'].names"
   ]
  },
  {
   "cell_type": "code",
   "execution_count": 42,
   "metadata": {},
   "outputs": [
    {
     "data": {
      "text/plain": [
       "DatasetDict({\n",
       "    train: Dataset({\n",
       "        features: ['audio', 'emotion'],\n",
       "        num_rows: 14171\n",
       "    })\n",
       "    test: Dataset({\n",
       "        features: ['audio', 'emotion'],\n",
       "        num_rows: 788\n",
       "    })\n",
       "    val: Dataset({\n",
       "        features: ['audio', 'emotion'],\n",
       "        num_rows: 787\n",
       "    })\n",
       "})"
      ]
     },
     "execution_count": 42,
     "metadata": {},
     "output_type": "execute_result"
    }
   ],
   "source": [
    "ds"
   ]
  },
  {
   "cell_type": "code",
   "execution_count": 43,
   "metadata": {},
   "outputs": [],
   "source": [
    "encoded_dataset = ds.map(prepare_dataset, \n",
    "                              fn_kwargs={\"feature_extractor\": feature_extractor}, \n",
    "                              remove_columns=[\"audio\"],\n",
    "                              batched=True, \n",
    "                              batch_size=4)"
   ]
  },
  {
   "cell_type": "code",
   "execution_count": 50,
   "metadata": {},
   "outputs": [
    {
     "name": "stderr",
     "output_type": "stream",
     "text": [
      "100%|██████████| 788/788 [01:09<00:00, 11.42it/s]\n"
     ]
    }
   ],
   "source": [
    "from tqdm import tqdm\n",
    "\n",
    "model.eval()\n",
    "preds = []\n",
    "for sample in tqdm(encoded_dataset['test']):\n",
    "    logits = model(torch.cuda.FloatTensor(sample['input_values']).unsqueeze(dim=0)).logits\n",
    "    # print(logits)\n",
    "    predictions = torch.argmax(logits, dim=-1)\n",
    "    # print(predictions)  \n",
    "    predicted_emotion = config.id2label[predictions.cpu().data.numpy()[0]]\n",
    "    preds.append(predicted_emotion)\n",
    "    # print(predicted_emotion)"
   ]
  },
  {
   "cell_type": "code",
   "execution_count": 51,
   "metadata": {},
   "outputs": [],
   "source": [
    "gts  = [config.id2label[gt] for gt in encoded_dataset['test']['labels']]"
   ]
  },
  {
   "cell_type": "code",
   "execution_count": 52,
   "metadata": {},
   "outputs": [
    {
     "data": {
      "image/png": "[encoded data removed]",
      "text/plain": [
       "<Figure size 640x480 with 2 Axes>"
      ]
     },
     "metadata": {},
     "output_type": "display_data"
    }
   ],
   "source": [
    "import matplotlib.pyplot as plt\n",
    "from sklearn.metrics import confusion_matrix, ConfusionMatrixDisplay\n",
    "\n",
    "cm = confusion_matrix(gts, preds, labels=list(config.label2id.keys()))\n",
    "disp = ConfusionMatrixDisplay(confusion_matrix=cm,\n",
    "                              display_labels=list(config.label2id.keys()))\n",
    "disp.plot()\n",
    "\n",
    "plt.show()"
   ]
  },
  {
   "cell_type": "code",
   "execution_count": 53,
   "metadata": {},
   "outputs": [
    {
     "name": "stdout",
     "output_type": "stream",
     "text": [
      "              precision    recall  f1-score   support\n",
      "\n",
      "       angry       0.84      0.95      0.89       177\n",
      "     neutral       0.72      0.71      0.72       149\n",
      "       other       0.98      0.80      0.88        75\n",
      "    positive       0.85      0.86      0.86       184\n",
      "         sad       0.88      0.85      0.86       203\n",
      "\n",
      "    accuracy                           0.84       788\n",
      "   macro avg       0.86      0.83      0.84       788\n",
      "weighted avg       0.85      0.84      0.84       788\n",
      "\n"
     ]
    },
    {
     "ename": "",
     "evalue": "",
     "output_type": "error",
     "traceback": [
      "\u001b[1;31mThe Kernel crashed while executing code in the current cell or a previous cell. \n",
      "\u001b[1;31mPlease review the code in the cell(s) to identify a possible cause of the failure. \n",
      "\u001b[1;31mClick <a href='https://aka.ms/vscodeJupyterKernelCrash'>here</a> for more info. \n",
      "\u001b[1;31mView Jupyter <a href='command:jupyter.viewOutput'>log</a> for further details."
     ]
    }
   ],
   "source": [
    "from sklearn.metrics import classification_report\n",
    "\n",
    "print(classification_report(gts, preds, target_names=list(config.label2id.keys())))"
   ]
  }
 ],
 "metadata": {
  "kernelspec": {
   "display_name": "hubert",
   "language": "python",
   "name": "python3"
  },
  "language_info": {
   "codemirror_mode": {
    "name": "ipython",
    "version": 3
   },
   "file_extension": ".py",
   "mimetype": "text/x-python",
   "name": "python",
   "nbconvert_exporter": "python",
   "pygments_lexer": "ipython3",
   "version": "3.10.14"
  }
 },
 "nbformat": 4,
 "nbformat_minor": 2
}
